{
  "nbformat": 4,
  "nbformat_minor": 0,
  "metadata": {
    "colab": {
      "provenance": []
    },
    "kernelspec": {
      "name": "python3",
      "display_name": "Python 3"
    },
    "language_info": {
      "name": "python"
    }
  },
  "cells": [
    {
      "cell_type": "markdown",
      "source": [
        "#Proyecto ROBOT TRADING V1.0"
      ],
      "metadata": {
        "id": "JGW1e6CvgV5S"
      }
    },
    {
      "cell_type": "markdown",
      "source": [
        "## 1. Configuración del Ambiente"
      ],
      "metadata": {
        "id": "N2KaC0PcgVD0"
      }
    },
    {
      "cell_type": "code",
      "execution_count": null,
      "metadata": {
        "id": "OJCVca2qV3DG"
      },
      "outputs": [],
      "source": [
        "import pandas as pd\n",
        "import numpy as np\n",
        "import matplotlib.pyplot as plt\n",
        "global df_bitcoin\n",
        "global precioactual\n",
        "global tendencia\n",
        "global media_bitcoin\n",
        "global algoritmo_decision\n"
      ]
    },
    {
      "cell_type": "code",
      "source": [
        "!python -V\n",
        "print('------')\n",
        "!pip show Pandas | grep 'Name\\|Version'\n",
        "print('------')\n",
        "!pip show Numpy | grep 'Name\\|Version'\n",
        "print('------')\n",
        "!pip show Matplotlib | grep 'Name\\|Version'"
      ],
      "metadata": {
        "colab": {
          "base_uri": "https://localhost:8080/"
        },
        "id": "_A2aJ16lgUCS",
        "outputId": "32fd9d9c-e024-451a-e0e7-1671db8b6740"
      },
      "execution_count": null,
      "outputs": [
        {
          "output_type": "stream",
          "name": "stdout",
          "text": [
            "Python 3.10.12\n",
            "------\n",
            "Name: pandas\n",
            "Version: 2.0.3\n",
            "------\n",
            "Name: numpy\n",
            "Version: 1.25.2\n",
            "------\n",
            "Name: matplotlib\n",
            "Version: 3.7.1\n"
          ]
        }
      ]
    },
    {
      "cell_type": "markdown",
      "source": [
        "## 2. Obtención de datos"
      ],
      "metadata": {
        "id": "UtNG-svdgx2g"
      }
    },
    {
      "cell_type": "markdown",
      "source": [
        "### Precios Históricos del Bitcoin"
      ],
      "metadata": {
        "id": "Aq573wwHIkGv"
      }
    },
    {
      "cell_type": "code",
      "source": [
        "def importar_base_bitcoin():\n",
        "  import yfinance as yf\n",
        "  global df_bitcoin\n",
        "  bitcoin = yf.Ticker(\"BTC-USD\")\n",
        "  df_bitcoin = bitcoin.history(period=\"7d\", interval=\"5m\")\n"
      ],
      "metadata": {
        "id": "kGHwPZv6g0-y"
      },
      "execution_count": null,
      "outputs": []
    },
    {
      "cell_type": "code",
      "source": [
        "importar_base_bitcoin()\n",
        "df_bitcoin.head()"
      ],
      "metadata": {
        "colab": {
          "base_uri": "https://localhost:8080/",
          "height": 238
        },
        "id": "N4wSsfzo6GfV",
        "outputId": "dbab3a51-0613-4342-fafb-f338726ae994"
      },
      "execution_count": null,
      "outputs": [
        {
          "output_type": "execute_result",
          "data": {
            "text/plain": [
              "                                   Open          High           Low  \\\n",
              "Datetime                                                              \n",
              "2024-04-05 00:00:00+00:00  68520.156250  68520.156250  68396.218750   \n",
              "2024-04-05 00:05:00+00:00  68381.718750  68389.062500  68369.156250   \n",
              "2024-04-05 00:10:00+00:00  68383.945312  68385.531250  68373.039062   \n",
              "2024-04-05 00:15:00+00:00  68371.421875  68379.617188  68291.687500   \n",
              "2024-04-05 00:20:00+00:00  68292.117188  68292.117188  68244.648438   \n",
              "\n",
              "                                  Close   Volume  Dividends  Stock Splits  \n",
              "Datetime                                                                   \n",
              "2024-04-05 00:00:00+00:00  68396.218750        0        0.0           0.0  \n",
              "2024-04-05 00:05:00+00:00  68374.140625        0        0.0           0.0  \n",
              "2024-04-05 00:10:00+00:00  68385.531250        0        0.0           0.0  \n",
              "2024-04-05 00:15:00+00:00  68291.687500  8736768        0.0           0.0  \n",
              "2024-04-05 00:20:00+00:00  68274.476562        0        0.0           0.0  "
            ],
            "text/html": [
              "\n",
              "  <div id=\"df-faaaf5a9-d1c6-459d-aeeb-be0322533685\" class=\"colab-df-container\">\n",
              "    <div>\n",
              "<style scoped>\n",
              "    .dataframe tbody tr th:only-of-type {\n",
              "        vertical-align: middle;\n",
              "    }\n",
              "\n",
              "    .dataframe tbody tr th {\n",
              "        vertical-align: top;\n",
              "    }\n",
              "\n",
              "    .dataframe thead th {\n",
              "        text-align: right;\n",
              "    }\n",
              "</style>\n",
              "<table border=\"1\" class=\"dataframe\">\n",
              "  <thead>\n",
              "    <tr style=\"text-align: right;\">\n",
              "      <th></th>\n",
              "      <th>Open</th>\n",
              "      <th>High</th>\n",
              "      <th>Low</th>\n",
              "      <th>Close</th>\n",
              "      <th>Volume</th>\n",
              "      <th>Dividends</th>\n",
              "      <th>Stock Splits</th>\n",
              "    </tr>\n",
              "    <tr>\n",
              "      <th>Datetime</th>\n",
              "      <th></th>\n",
              "      <th></th>\n",
              "      <th></th>\n",
              "      <th></th>\n",
              "      <th></th>\n",
              "      <th></th>\n",
              "      <th></th>\n",
              "    </tr>\n",
              "  </thead>\n",
              "  <tbody>\n",
              "    <tr>\n",
              "      <th>2024-04-05 00:00:00+00:00</th>\n",
              "      <td>68520.156250</td>\n",
              "      <td>68520.156250</td>\n",
              "      <td>68396.218750</td>\n",
              "      <td>68396.218750</td>\n",
              "      <td>0</td>\n",
              "      <td>0.0</td>\n",
              "      <td>0.0</td>\n",
              "    </tr>\n",
              "    <tr>\n",
              "      <th>2024-04-05 00:05:00+00:00</th>\n",
              "      <td>68381.718750</td>\n",
              "      <td>68389.062500</td>\n",
              "      <td>68369.156250</td>\n",
              "      <td>68374.140625</td>\n",
              "      <td>0</td>\n",
              "      <td>0.0</td>\n",
              "      <td>0.0</td>\n",
              "    </tr>\n",
              "    <tr>\n",
              "      <th>2024-04-05 00:10:00+00:00</th>\n",
              "      <td>68383.945312</td>\n",
              "      <td>68385.531250</td>\n",
              "      <td>68373.039062</td>\n",
              "      <td>68385.531250</td>\n",
              "      <td>0</td>\n",
              "      <td>0.0</td>\n",
              "      <td>0.0</td>\n",
              "    </tr>\n",
              "    <tr>\n",
              "      <th>2024-04-05 00:15:00+00:00</th>\n",
              "      <td>68371.421875</td>\n",
              "      <td>68379.617188</td>\n",
              "      <td>68291.687500</td>\n",
              "      <td>68291.687500</td>\n",
              "      <td>8736768</td>\n",
              "      <td>0.0</td>\n",
              "      <td>0.0</td>\n",
              "    </tr>\n",
              "    <tr>\n",
              "      <th>2024-04-05 00:20:00+00:00</th>\n",
              "      <td>68292.117188</td>\n",
              "      <td>68292.117188</td>\n",
              "      <td>68244.648438</td>\n",
              "      <td>68274.476562</td>\n",
              "      <td>0</td>\n",
              "      <td>0.0</td>\n",
              "      <td>0.0</td>\n",
              "    </tr>\n",
              "  </tbody>\n",
              "</table>\n",
              "</div>\n",
              "    <div class=\"colab-df-buttons\">\n",
              "\n",
              "  <div class=\"colab-df-container\">\n",
              "    <button class=\"colab-df-convert\" onclick=\"convertToInteractive('df-faaaf5a9-d1c6-459d-aeeb-be0322533685')\"\n",
              "            title=\"Convert this dataframe to an interactive table.\"\n",
              "            style=\"display:none;\">\n",
              "\n",
              "  <svg xmlns=\"http://www.w3.org/2000/svg\" height=\"24px\" viewBox=\"0 -960 960 960\">\n",
              "    <path d=\"M120-120v-720h720v720H120Zm60-500h600v-160H180v160Zm220 220h160v-160H400v160Zm0 220h160v-160H400v160ZM180-400h160v-160H180v160Zm440 0h160v-160H620v160ZM180-180h160v-160H180v160Zm440 0h160v-160H620v160Z\"/>\n",
              "  </svg>\n",
              "    </button>\n",
              "\n",
              "  <style>\n",
              "    .colab-df-container {\n",
              "      display:flex;\n",
              "      gap: 12px;\n",
              "    }\n",
              "\n",
              "    .colab-df-convert {\n",
              "      background-color: #E8F0FE;\n",
              "      border: none;\n",
              "      border-radius: 50%;\n",
              "      cursor: pointer;\n",
              "      display: none;\n",
              "      fill: #1967D2;\n",
              "      height: 32px;\n",
              "      padding: 0 0 0 0;\n",
              "      width: 32px;\n",
              "    }\n",
              "\n",
              "    .colab-df-convert:hover {\n",
              "      background-color: #E2EBFA;\n",
              "      box-shadow: 0px 1px 2px rgba(60, 64, 67, 0.3), 0px 1px 3px 1px rgba(60, 64, 67, 0.15);\n",
              "      fill: #174EA6;\n",
              "    }\n",
              "\n",
              "    .colab-df-buttons div {\n",
              "      margin-bottom: 4px;\n",
              "    }\n",
              "\n",
              "    [theme=dark] .colab-df-convert {\n",
              "      background-color: #3B4455;\n",
              "      fill: #D2E3FC;\n",
              "    }\n",
              "\n",
              "    [theme=dark] .colab-df-convert:hover {\n",
              "      background-color: #434B5C;\n",
              "      box-shadow: 0px 1px 3px 1px rgba(0, 0, 0, 0.15);\n",
              "      filter: drop-shadow(0px 1px 2px rgba(0, 0, 0, 0.3));\n",
              "      fill: #FFFFFF;\n",
              "    }\n",
              "  </style>\n",
              "\n",
              "    <script>\n",
              "      const buttonEl =\n",
              "        document.querySelector('#df-faaaf5a9-d1c6-459d-aeeb-be0322533685 button.colab-df-convert');\n",
              "      buttonEl.style.display =\n",
              "        google.colab.kernel.accessAllowed ? 'block' : 'none';\n",
              "\n",
              "      async function convertToInteractive(key) {\n",
              "        const element = document.querySelector('#df-faaaf5a9-d1c6-459d-aeeb-be0322533685');\n",
              "        const dataTable =\n",
              "          await google.colab.kernel.invokeFunction('convertToInteractive',\n",
              "                                                    [key], {});\n",
              "        if (!dataTable) return;\n",
              "\n",
              "        const docLinkHtml = 'Like what you see? Visit the ' +\n",
              "          '<a target=\"_blank\" href=https://colab.research.google.com/notebooks/data_table.ipynb>data table notebook</a>'\n",
              "          + ' to learn more about interactive tables.';\n",
              "        element.innerHTML = '';\n",
              "        dataTable['output_type'] = 'display_data';\n",
              "        await google.colab.output.renderOutput(dataTable, element);\n",
              "        const docLink = document.createElement('div');\n",
              "        docLink.innerHTML = docLinkHtml;\n",
              "        element.appendChild(docLink);\n",
              "      }\n",
              "    </script>\n",
              "  </div>\n",
              "\n",
              "\n",
              "<div id=\"df-41e06ce3-8ed3-47c9-98bf-8fa8c40f5885\">\n",
              "  <button class=\"colab-df-quickchart\" onclick=\"quickchart('df-41e06ce3-8ed3-47c9-98bf-8fa8c40f5885')\"\n",
              "            title=\"Suggest charts\"\n",
              "            style=\"display:none;\">\n",
              "\n",
              "<svg xmlns=\"http://www.w3.org/2000/svg\" height=\"24px\"viewBox=\"0 0 24 24\"\n",
              "     width=\"24px\">\n",
              "    <g>\n",
              "        <path d=\"M19 3H5c-1.1 0-2 .9-2 2v14c0 1.1.9 2 2 2h14c1.1 0 2-.9 2-2V5c0-1.1-.9-2-2-2zM9 17H7v-7h2v7zm4 0h-2V7h2v10zm4 0h-2v-4h2v4z\"/>\n",
              "    </g>\n",
              "</svg>\n",
              "  </button>\n",
              "\n",
              "<style>\n",
              "  .colab-df-quickchart {\n",
              "      --bg-color: #E8F0FE;\n",
              "      --fill-color: #1967D2;\n",
              "      --hover-bg-color: #E2EBFA;\n",
              "      --hover-fill-color: #174EA6;\n",
              "      --disabled-fill-color: #AAA;\n",
              "      --disabled-bg-color: #DDD;\n",
              "  }\n",
              "\n",
              "  [theme=dark] .colab-df-quickchart {\n",
              "      --bg-color: #3B4455;\n",
              "      --fill-color: #D2E3FC;\n",
              "      --hover-bg-color: #434B5C;\n",
              "      --hover-fill-color: #FFFFFF;\n",
              "      --disabled-bg-color: #3B4455;\n",
              "      --disabled-fill-color: #666;\n",
              "  }\n",
              "\n",
              "  .colab-df-quickchart {\n",
              "    background-color: var(--bg-color);\n",
              "    border: none;\n",
              "    border-radius: 50%;\n",
              "    cursor: pointer;\n",
              "    display: none;\n",
              "    fill: var(--fill-color);\n",
              "    height: 32px;\n",
              "    padding: 0;\n",
              "    width: 32px;\n",
              "  }\n",
              "\n",
              "  .colab-df-quickchart:hover {\n",
              "    background-color: var(--hover-bg-color);\n",
              "    box-shadow: 0 1px 2px rgba(60, 64, 67, 0.3), 0 1px 3px 1px rgba(60, 64, 67, 0.15);\n",
              "    fill: var(--button-hover-fill-color);\n",
              "  }\n",
              "\n",
              "  .colab-df-quickchart-complete:disabled,\n",
              "  .colab-df-quickchart-complete:disabled:hover {\n",
              "    background-color: var(--disabled-bg-color);\n",
              "    fill: var(--disabled-fill-color);\n",
              "    box-shadow: none;\n",
              "  }\n",
              "\n",
              "  .colab-df-spinner {\n",
              "    border: 2px solid var(--fill-color);\n",
              "    border-color: transparent;\n",
              "    border-bottom-color: var(--fill-color);\n",
              "    animation:\n",
              "      spin 1s steps(1) infinite;\n",
              "  }\n",
              "\n",
              "  @keyframes spin {\n",
              "    0% {\n",
              "      border-color: transparent;\n",
              "      border-bottom-color: var(--fill-color);\n",
              "      border-left-color: var(--fill-color);\n",
              "    }\n",
              "    20% {\n",
              "      border-color: transparent;\n",
              "      border-left-color: var(--fill-color);\n",
              "      border-top-color: var(--fill-color);\n",
              "    }\n",
              "    30% {\n",
              "      border-color: transparent;\n",
              "      border-left-color: var(--fill-color);\n",
              "      border-top-color: var(--fill-color);\n",
              "      border-right-color: var(--fill-color);\n",
              "    }\n",
              "    40% {\n",
              "      border-color: transparent;\n",
              "      border-right-color: var(--fill-color);\n",
              "      border-top-color: var(--fill-color);\n",
              "    }\n",
              "    60% {\n",
              "      border-color: transparent;\n",
              "      border-right-color: var(--fill-color);\n",
              "    }\n",
              "    80% {\n",
              "      border-color: transparent;\n",
              "      border-right-color: var(--fill-color);\n",
              "      border-bottom-color: var(--fill-color);\n",
              "    }\n",
              "    90% {\n",
              "      border-color: transparent;\n",
              "      border-bottom-color: var(--fill-color);\n",
              "    }\n",
              "  }\n",
              "</style>\n",
              "\n",
              "  <script>\n",
              "    async function quickchart(key) {\n",
              "      const quickchartButtonEl =\n",
              "        document.querySelector('#' + key + ' button');\n",
              "      quickchartButtonEl.disabled = true;  // To prevent multiple clicks.\n",
              "      quickchartButtonEl.classList.add('colab-df-spinner');\n",
              "      try {\n",
              "        const charts = await google.colab.kernel.invokeFunction(\n",
              "            'suggestCharts', [key], {});\n",
              "      } catch (error) {\n",
              "        console.error('Error during call to suggestCharts:', error);\n",
              "      }\n",
              "      quickchartButtonEl.classList.remove('colab-df-spinner');\n",
              "      quickchartButtonEl.classList.add('colab-df-quickchart-complete');\n",
              "    }\n",
              "    (() => {\n",
              "      let quickchartButtonEl =\n",
              "        document.querySelector('#df-41e06ce3-8ed3-47c9-98bf-8fa8c40f5885 button');\n",
              "      quickchartButtonEl.style.display =\n",
              "        google.colab.kernel.accessAllowed ? 'block' : 'none';\n",
              "    })();\n",
              "  </script>\n",
              "</div>\n",
              "\n",
              "    </div>\n",
              "  </div>\n"
            ],
            "application/vnd.google.colaboratory.intrinsic+json": {
              "type": "dataframe",
              "variable_name": "df_bitcoin",
              "summary": "{\n  \"name\": \"df_bitcoin\",\n  \"rows\": 1792,\n  \"fields\": [\n    {\n      \"column\": \"Datetime\",\n      \"properties\": {\n        \"dtype\": \"date\",\n        \"min\": \"2024-04-05 00:00:00+00:00\",\n        \"max\": \"2024-04-11 05:15:00+00:00\",\n        \"num_unique_values\": 1792,\n        \"samples\": [\n          \"2024-04-07 04:20:00+00:00\",\n          \"2024-04-05 18:20:00+00:00\",\n          \"2024-04-08 16:05:00+00:00\"\n        ],\n        \"semantic_type\": \"\",\n        \"description\": \"\"\n      }\n    },\n    {\n      \"column\": \"Open\",\n      \"properties\": {\n        \"dtype\": \"number\",\n        \"std\": 1402.639580682136,\n        \"min\": 66139.640625,\n        \"max\": 72668.921875,\n        \"num_unique_values\": 1788,\n        \"samples\": [\n          67740.84375,\n          69793.90625,\n          68024.28125\n        ],\n        \"semantic_type\": \"\",\n        \"description\": \"\"\n      }\n    },\n    {\n      \"column\": \"High\",\n      \"properties\": {\n        \"dtype\": \"number\",\n        \"std\": 1402.8124415349953,\n        \"min\": 66294.2421875,\n        \"max\": 72676.2734375,\n        \"num_unique_values\": 1785,\n        \"samples\": [\n          68891.9765625,\n          71805.5234375,\n          69441.671875\n        ],\n        \"semantic_type\": \"\",\n        \"description\": \"\"\n      }\n    },\n    {\n      \"column\": \"Low\",\n      \"properties\": {\n        \"dtype\": \"number\",\n        \"std\": 1402.0345917101981,\n        \"min\": 66069.265625,\n        \"max\": 72564.75,\n        \"num_unique_values\": 1790,\n        \"samples\": [\n          69734.171875,\n          69172.59375,\n          68000.78125\n        ],\n        \"semantic_type\": \"\",\n        \"description\": \"\"\n      }\n    },\n    {\n      \"column\": \"Close\",\n      \"properties\": {\n        \"dtype\": \"number\",\n        \"std\": 1402.1239244256437,\n        \"min\": 66069.265625,\n        \"max\": 72571.4921875,\n        \"num_unique_values\": 1786,\n        \"samples\": [\n          68411.265625,\n          71716.5390625,\n          68694.328125\n        ],\n        \"semantic_type\": \"\",\n        \"description\": \"\"\n      }\n    },\n    {\n      \"column\": \"Volume\",\n      \"properties\": {\n        \"dtype\": \"number\",\n        \"std\": 66620674,\n        \"min\": 0,\n        \"max\": 1054017536,\n        \"num_unique_values\": 924,\n        \"samples\": [\n          30359552,\n          454987776,\n          14868480\n        ],\n        \"semantic_type\": \"\",\n        \"description\": \"\"\n      }\n    },\n    {\n      \"column\": \"Dividends\",\n      \"properties\": {\n        \"dtype\": \"number\",\n        \"std\": 0.0,\n        \"min\": 0.0,\n        \"max\": 0.0,\n        \"num_unique_values\": 1,\n        \"samples\": [\n          0.0\n        ],\n        \"semantic_type\": \"\",\n        \"description\": \"\"\n      }\n    },\n    {\n      \"column\": \"Stock Splits\",\n      \"properties\": {\n        \"dtype\": \"number\",\n        \"std\": 0.0,\n        \"min\": 0.0,\n        \"max\": 0.0,\n        \"num_unique_values\": 1,\n        \"samples\": [\n          0.0\n        ],\n        \"semantic_type\": \"\",\n        \"description\": \"\"\n      }\n    }\n  ]\n}"
            }
          },
          "metadata": {},
          "execution_count": 269
        }
      ]
    },
    {
      "cell_type": "markdown",
      "source": [
        "### Indicadores de Tendencia"
      ],
      "metadata": {
        "id": "RTakwrRXIqMI"
      }
    },
    {
      "cell_type": "code",
      "source": [
        "from re import findall\n",
        "from os import replace\n",
        "from bs4 import BeautifulSoup\n",
        "import requests\n",
        "global valores\n",
        "global precios_1h_\n",
        "\n",
        "def extraer_tendencias():\n",
        "  global valores\n",
        "  global tendencia\n",
        "  global precioactual\n",
        "  global precios_1h_\n",
        "  url = 'https://coinmarketcap.com/'\n",
        "  page = requests.get(url)\n",
        "  soup = BeautifulSoup(page.text, 'html')\n",
        "\n",
        "# Extraer los datos de cada sección\n",
        "  nombres = [nombre.text for nombre in soup.find_all('p', class_='sc-4984dd93-0 kKpPOn')]\n",
        "  precios_actuales = [precio.text for precio in soup.find_all('div', {'class':['sc-500f568e-0 ejtlWy','sc-500f568e-0 ejtlWy rise','sc-500f568e-0 ejtlWy fall']})]\n",
        "  precios_1h = [precio.text for precio in soup.find_all('span', {'class':['sc-6a54057-0']})][:10]\n",
        "\n",
        "  #Coloco los valores a la variable Data, los paso a un Dataframe y transformo las variables numéricas a float.\n",
        "  Data = {'Nombre': nombres, 'Precio Actual': precios_actuales, 'Precio 1h %': precios_1h}\n",
        "  Data = pd.DataFrame(Data)\n",
        "  Data['Precio Actual'] = Data['Precio Actual'].str.replace('$', '').str.replace(',', '').astype(float)\n",
        "  Data['Precio 1h %'] = Data['Precio 1h %'].str.replace('%', '').astype(float)\n",
        "\n",
        "  #busco la clase del ínoco de tendencia alta o baja.\n",
        "  elementos_span = soup.find_all('span', class_='sc-6a54057-0')\n",
        "\n",
        "  lista_tendencia = []\n",
        "\n",
        "  for span in elementos_span:\n",
        "      # Encontrar el elemento span dentro del elemento principal\n",
        "      icono_span = span.find('span', class_=lambda value: value and ('icon-Caret-up' in value or 'icon-Caret-down' in value))\n",
        "\n",
        "      # Si se encuentra el elemento span\n",
        "      if icono_span:\n",
        "          # Agregar la clase a la lista\n",
        "          lista_tendencia.append(icono_span['class'][0])\n",
        "\n",
        "  lista_tendencia = pd.DataFrame(lista_tendencia[:10], columns=['Tendencia']).replace('icon-Caret-down', 'Baja').replace('icon-Caret-up', 'Alta')\n",
        "\n",
        "  Data = Data.join(lista_tendencia)\n",
        "\n",
        "  valores = Data\n",
        "  precioactual = valores['Precio Actual'][0]\n",
        "  precios_1h_ = valores['Precio 1h %']\n",
        "  tendencia = valores['Tendencia'][0]\n",
        "\n"
      ],
      "metadata": {
        "id": "8DLdBKM0I0fs"
      },
      "execution_count": null,
      "outputs": []
    },
    {
      "cell_type": "code",
      "source": [
        "extraer_tendencias()\n",
        "print('Precio del Bitcoin: ', precioactual)\n",
        "print('Tendencia: ', tendencia)"
      ],
      "metadata": {
        "colab": {
          "base_uri": "https://localhost:8080/"
        },
        "id": "WTmK_fch41A1",
        "outputId": "ae9b637a-e78b-43c4-9639-60cea32a7bc2"
      },
      "execution_count": null,
      "outputs": [
        {
          "output_type": "stream",
          "name": "stdout",
          "text": [
            "Precio del Bitcoin:  70797.06\n",
            "Tendencia:  Alta\n"
          ]
        }
      ]
    },
    {
      "cell_type": "markdown",
      "source": [
        "## 3. Limpieza de Datos"
      ],
      "metadata": {
        "id": "ExDkDK9d6PFM"
      }
    },
    {
      "cell_type": "code",
      "source": [
        "print(df_bitcoin.info())\n",
        "df_bitcoin.describe().round(0)"
      ],
      "metadata": {
        "colab": {
          "base_uri": "https://localhost:8080/",
          "height": 568
        },
        "id": "4fs1m7fkDON_",
        "outputId": "9bebfe87-a91f-42ff-c2e5-4308075fc746"
      },
      "execution_count": null,
      "outputs": [
        {
          "output_type": "stream",
          "name": "stdout",
          "text": [
            "<class 'pandas.core.frame.DataFrame'>\n",
            "DatetimeIndex: 1792 entries, 2024-04-05 00:00:00+00:00 to 2024-04-11 05:15:00+00:00\n",
            "Data columns (total 7 columns):\n",
            " #   Column        Non-Null Count  Dtype  \n",
            "---  ------        --------------  -----  \n",
            " 0   Open          1792 non-null   float64\n",
            " 1   High          1792 non-null   float64\n",
            " 2   Low           1792 non-null   float64\n",
            " 3   Close         1792 non-null   float64\n",
            " 4   Volume        1792 non-null   int64  \n",
            " 5   Dividends     1792 non-null   float64\n",
            " 6   Stock Splits  1792 non-null   float64\n",
            "dtypes: float64(6), int64(1)\n",
            "memory usage: 112.0 KB\n",
            "None\n"
          ]
        },
        {
          "output_type": "execute_result",
          "data": {
            "text/plain": [
              "          Open     High      Low    Close        Volume  Dividends  \\\n",
              "count   1792.0   1792.0   1792.0   1792.0  1.792000e+03     1792.0   \n",
              "mean   69286.0  69326.0  69243.0  69284.0  3.195581e+07        0.0   \n",
              "std     1403.0   1403.0   1402.0   1402.0  6.662067e+07        0.0   \n",
              "min    66140.0  66294.0  66069.0  66069.0  0.000000e+00        0.0   \n",
              "25%    68065.0  68108.0  68031.0  68064.0  0.000000e+00        0.0   \n",
              "50%    69250.0  69283.0  69217.0  69250.0  2.293760e+06        0.0   \n",
              "75%    70235.0  70287.0  70167.0  70242.0  3.553638e+07        0.0   \n",
              "max    72669.0  72676.0  72565.0  72571.0  1.054018e+09        0.0   \n",
              "\n",
              "       Stock Splits  \n",
              "count        1792.0  \n",
              "mean            0.0  \n",
              "std             0.0  \n",
              "min             0.0  \n",
              "25%             0.0  \n",
              "50%             0.0  \n",
              "75%             0.0  \n",
              "max             0.0  "
            ],
            "text/html": [
              "\n",
              "  <div id=\"df-0f8c69c1-3bb0-44e4-b7a6-93d3ad4a8483\" class=\"colab-df-container\">\n",
              "    <div>\n",
              "<style scoped>\n",
              "    .dataframe tbody tr th:only-of-type {\n",
              "        vertical-align: middle;\n",
              "    }\n",
              "\n",
              "    .dataframe tbody tr th {\n",
              "        vertical-align: top;\n",
              "    }\n",
              "\n",
              "    .dataframe thead th {\n",
              "        text-align: right;\n",
              "    }\n",
              "</style>\n",
              "<table border=\"1\" class=\"dataframe\">\n",
              "  <thead>\n",
              "    <tr style=\"text-align: right;\">\n",
              "      <th></th>\n",
              "      <th>Open</th>\n",
              "      <th>High</th>\n",
              "      <th>Low</th>\n",
              "      <th>Close</th>\n",
              "      <th>Volume</th>\n",
              "      <th>Dividends</th>\n",
              "      <th>Stock Splits</th>\n",
              "    </tr>\n",
              "  </thead>\n",
              "  <tbody>\n",
              "    <tr>\n",
              "      <th>count</th>\n",
              "      <td>1792.0</td>\n",
              "      <td>1792.0</td>\n",
              "      <td>1792.0</td>\n",
              "      <td>1792.0</td>\n",
              "      <td>1.792000e+03</td>\n",
              "      <td>1792.0</td>\n",
              "      <td>1792.0</td>\n",
              "    </tr>\n",
              "    <tr>\n",
              "      <th>mean</th>\n",
              "      <td>69286.0</td>\n",
              "      <td>69326.0</td>\n",
              "      <td>69243.0</td>\n",
              "      <td>69284.0</td>\n",
              "      <td>3.195581e+07</td>\n",
              "      <td>0.0</td>\n",
              "      <td>0.0</td>\n",
              "    </tr>\n",
              "    <tr>\n",
              "      <th>std</th>\n",
              "      <td>1403.0</td>\n",
              "      <td>1403.0</td>\n",
              "      <td>1402.0</td>\n",
              "      <td>1402.0</td>\n",
              "      <td>6.662067e+07</td>\n",
              "      <td>0.0</td>\n",
              "      <td>0.0</td>\n",
              "    </tr>\n",
              "    <tr>\n",
              "      <th>min</th>\n",
              "      <td>66140.0</td>\n",
              "      <td>66294.0</td>\n",
              "      <td>66069.0</td>\n",
              "      <td>66069.0</td>\n",
              "      <td>0.000000e+00</td>\n",
              "      <td>0.0</td>\n",
              "      <td>0.0</td>\n",
              "    </tr>\n",
              "    <tr>\n",
              "      <th>25%</th>\n",
              "      <td>68065.0</td>\n",
              "      <td>68108.0</td>\n",
              "      <td>68031.0</td>\n",
              "      <td>68064.0</td>\n",
              "      <td>0.000000e+00</td>\n",
              "      <td>0.0</td>\n",
              "      <td>0.0</td>\n",
              "    </tr>\n",
              "    <tr>\n",
              "      <th>50%</th>\n",
              "      <td>69250.0</td>\n",
              "      <td>69283.0</td>\n",
              "      <td>69217.0</td>\n",
              "      <td>69250.0</td>\n",
              "      <td>2.293760e+06</td>\n",
              "      <td>0.0</td>\n",
              "      <td>0.0</td>\n",
              "    </tr>\n",
              "    <tr>\n",
              "      <th>75%</th>\n",
              "      <td>70235.0</td>\n",
              "      <td>70287.0</td>\n",
              "      <td>70167.0</td>\n",
              "      <td>70242.0</td>\n",
              "      <td>3.553638e+07</td>\n",
              "      <td>0.0</td>\n",
              "      <td>0.0</td>\n",
              "    </tr>\n",
              "    <tr>\n",
              "      <th>max</th>\n",
              "      <td>72669.0</td>\n",
              "      <td>72676.0</td>\n",
              "      <td>72565.0</td>\n",
              "      <td>72571.0</td>\n",
              "      <td>1.054018e+09</td>\n",
              "      <td>0.0</td>\n",
              "      <td>0.0</td>\n",
              "    </tr>\n",
              "  </tbody>\n",
              "</table>\n",
              "</div>\n",
              "    <div class=\"colab-df-buttons\">\n",
              "\n",
              "  <div class=\"colab-df-container\">\n",
              "    <button class=\"colab-df-convert\" onclick=\"convertToInteractive('df-0f8c69c1-3bb0-44e4-b7a6-93d3ad4a8483')\"\n",
              "            title=\"Convert this dataframe to an interactive table.\"\n",
              "            style=\"display:none;\">\n",
              "\n",
              "  <svg xmlns=\"http://www.w3.org/2000/svg\" height=\"24px\" viewBox=\"0 -960 960 960\">\n",
              "    <path d=\"M120-120v-720h720v720H120Zm60-500h600v-160H180v160Zm220 220h160v-160H400v160Zm0 220h160v-160H400v160ZM180-400h160v-160H180v160Zm440 0h160v-160H620v160ZM180-180h160v-160H180v160Zm440 0h160v-160H620v160Z\"/>\n",
              "  </svg>\n",
              "    </button>\n",
              "\n",
              "  <style>\n",
              "    .colab-df-container {\n",
              "      display:flex;\n",
              "      gap: 12px;\n",
              "    }\n",
              "\n",
              "    .colab-df-convert {\n",
              "      background-color: #E8F0FE;\n",
              "      border: none;\n",
              "      border-radius: 50%;\n",
              "      cursor: pointer;\n",
              "      display: none;\n",
              "      fill: #1967D2;\n",
              "      height: 32px;\n",
              "      padding: 0 0 0 0;\n",
              "      width: 32px;\n",
              "    }\n",
              "\n",
              "    .colab-df-convert:hover {\n",
              "      background-color: #E2EBFA;\n",
              "      box-shadow: 0px 1px 2px rgba(60, 64, 67, 0.3), 0px 1px 3px 1px rgba(60, 64, 67, 0.15);\n",
              "      fill: #174EA6;\n",
              "    }\n",
              "\n",
              "    .colab-df-buttons div {\n",
              "      margin-bottom: 4px;\n",
              "    }\n",
              "\n",
              "    [theme=dark] .colab-df-convert {\n",
              "      background-color: #3B4455;\n",
              "      fill: #D2E3FC;\n",
              "    }\n",
              "\n",
              "    [theme=dark] .colab-df-convert:hover {\n",
              "      background-color: #434B5C;\n",
              "      box-shadow: 0px 1px 3px 1px rgba(0, 0, 0, 0.15);\n",
              "      filter: drop-shadow(0px 1px 2px rgba(0, 0, 0, 0.3));\n",
              "      fill: #FFFFFF;\n",
              "    }\n",
              "  </style>\n",
              "\n",
              "    <script>\n",
              "      const buttonEl =\n",
              "        document.querySelector('#df-0f8c69c1-3bb0-44e4-b7a6-93d3ad4a8483 button.colab-df-convert');\n",
              "      buttonEl.style.display =\n",
              "        google.colab.kernel.accessAllowed ? 'block' : 'none';\n",
              "\n",
              "      async function convertToInteractive(key) {\n",
              "        const element = document.querySelector('#df-0f8c69c1-3bb0-44e4-b7a6-93d3ad4a8483');\n",
              "        const dataTable =\n",
              "          await google.colab.kernel.invokeFunction('convertToInteractive',\n",
              "                                                    [key], {});\n",
              "        if (!dataTable) return;\n",
              "\n",
              "        const docLinkHtml = 'Like what you see? Visit the ' +\n",
              "          '<a target=\"_blank\" href=https://colab.research.google.com/notebooks/data_table.ipynb>data table notebook</a>'\n",
              "          + ' to learn more about interactive tables.';\n",
              "        element.innerHTML = '';\n",
              "        dataTable['output_type'] = 'display_data';\n",
              "        await google.colab.output.renderOutput(dataTable, element);\n",
              "        const docLink = document.createElement('div');\n",
              "        docLink.innerHTML = docLinkHtml;\n",
              "        element.appendChild(docLink);\n",
              "      }\n",
              "    </script>\n",
              "  </div>\n",
              "\n",
              "\n",
              "<div id=\"df-559fe2e5-d933-4305-a6b0-40d94d486186\">\n",
              "  <button class=\"colab-df-quickchart\" onclick=\"quickchart('df-559fe2e5-d933-4305-a6b0-40d94d486186')\"\n",
              "            title=\"Suggest charts\"\n",
              "            style=\"display:none;\">\n",
              "\n",
              "<svg xmlns=\"http://www.w3.org/2000/svg\" height=\"24px\"viewBox=\"0 0 24 24\"\n",
              "     width=\"24px\">\n",
              "    <g>\n",
              "        <path d=\"M19 3H5c-1.1 0-2 .9-2 2v14c0 1.1.9 2 2 2h14c1.1 0 2-.9 2-2V5c0-1.1-.9-2-2-2zM9 17H7v-7h2v7zm4 0h-2V7h2v10zm4 0h-2v-4h2v4z\"/>\n",
              "    </g>\n",
              "</svg>\n",
              "  </button>\n",
              "\n",
              "<style>\n",
              "  .colab-df-quickchart {\n",
              "      --bg-color: #E8F0FE;\n",
              "      --fill-color: #1967D2;\n",
              "      --hover-bg-color: #E2EBFA;\n",
              "      --hover-fill-color: #174EA6;\n",
              "      --disabled-fill-color: #AAA;\n",
              "      --disabled-bg-color: #DDD;\n",
              "  }\n",
              "\n",
              "  [theme=dark] .colab-df-quickchart {\n",
              "      --bg-color: #3B4455;\n",
              "      --fill-color: #D2E3FC;\n",
              "      --hover-bg-color: #434B5C;\n",
              "      --hover-fill-color: #FFFFFF;\n",
              "      --disabled-bg-color: #3B4455;\n",
              "      --disabled-fill-color: #666;\n",
              "  }\n",
              "\n",
              "  .colab-df-quickchart {\n",
              "    background-color: var(--bg-color);\n",
              "    border: none;\n",
              "    border-radius: 50%;\n",
              "    cursor: pointer;\n",
              "    display: none;\n",
              "    fill: var(--fill-color);\n",
              "    height: 32px;\n",
              "    padding: 0;\n",
              "    width: 32px;\n",
              "  }\n",
              "\n",
              "  .colab-df-quickchart:hover {\n",
              "    background-color: var(--hover-bg-color);\n",
              "    box-shadow: 0 1px 2px rgba(60, 64, 67, 0.3), 0 1px 3px 1px rgba(60, 64, 67, 0.15);\n",
              "    fill: var(--button-hover-fill-color);\n",
              "  }\n",
              "\n",
              "  .colab-df-quickchart-complete:disabled,\n",
              "  .colab-df-quickchart-complete:disabled:hover {\n",
              "    background-color: var(--disabled-bg-color);\n",
              "    fill: var(--disabled-fill-color);\n",
              "    box-shadow: none;\n",
              "  }\n",
              "\n",
              "  .colab-df-spinner {\n",
              "    border: 2px solid var(--fill-color);\n",
              "    border-color: transparent;\n",
              "    border-bottom-color: var(--fill-color);\n",
              "    animation:\n",
              "      spin 1s steps(1) infinite;\n",
              "  }\n",
              "\n",
              "  @keyframes spin {\n",
              "    0% {\n",
              "      border-color: transparent;\n",
              "      border-bottom-color: var(--fill-color);\n",
              "      border-left-color: var(--fill-color);\n",
              "    }\n",
              "    20% {\n",
              "      border-color: transparent;\n",
              "      border-left-color: var(--fill-color);\n",
              "      border-top-color: var(--fill-color);\n",
              "    }\n",
              "    30% {\n",
              "      border-color: transparent;\n",
              "      border-left-color: var(--fill-color);\n",
              "      border-top-color: var(--fill-color);\n",
              "      border-right-color: var(--fill-color);\n",
              "    }\n",
              "    40% {\n",
              "      border-color: transparent;\n",
              "      border-right-color: var(--fill-color);\n",
              "      border-top-color: var(--fill-color);\n",
              "    }\n",
              "    60% {\n",
              "      border-color: transparent;\n",
              "      border-right-color: var(--fill-color);\n",
              "    }\n",
              "    80% {\n",
              "      border-color: transparent;\n",
              "      border-right-color: var(--fill-color);\n",
              "      border-bottom-color: var(--fill-color);\n",
              "    }\n",
              "    90% {\n",
              "      border-color: transparent;\n",
              "      border-bottom-color: var(--fill-color);\n",
              "    }\n",
              "  }\n",
              "</style>\n",
              "\n",
              "  <script>\n",
              "    async function quickchart(key) {\n",
              "      const quickchartButtonEl =\n",
              "        document.querySelector('#' + key + ' button');\n",
              "      quickchartButtonEl.disabled = true;  // To prevent multiple clicks.\n",
              "      quickchartButtonEl.classList.add('colab-df-spinner');\n",
              "      try {\n",
              "        const charts = await google.colab.kernel.invokeFunction(\n",
              "            'suggestCharts', [key], {});\n",
              "      } catch (error) {\n",
              "        console.error('Error during call to suggestCharts:', error);\n",
              "      }\n",
              "      quickchartButtonEl.classList.remove('colab-df-spinner');\n",
              "      quickchartButtonEl.classList.add('colab-df-quickchart-complete');\n",
              "    }\n",
              "    (() => {\n",
              "      let quickchartButtonEl =\n",
              "        document.querySelector('#df-559fe2e5-d933-4305-a6b0-40d94d486186 button');\n",
              "      quickchartButtonEl.style.display =\n",
              "        google.colab.kernel.accessAllowed ? 'block' : 'none';\n",
              "    })();\n",
              "  </script>\n",
              "</div>\n",
              "\n",
              "    </div>\n",
              "  </div>\n"
            ],
            "application/vnd.google.colaboratory.intrinsic+json": {
              "type": "dataframe",
              "summary": "{\n  \"name\": \"df_bitcoin\",\n  \"rows\": 8,\n  \"fields\": [\n    {\n      \"column\": \"Open\",\n      \"properties\": {\n        \"dtype\": \"number\",\n        \"std\": 31382.448188210463,\n        \"min\": 1403.0,\n        \"max\": 72669.0,\n        \"num_unique_values\": 8,\n        \"samples\": [\n          69286.0,\n          69250.0,\n          1792.0\n        ],\n        \"semantic_type\": \"\",\n        \"description\": \"\"\n      }\n    },\n    {\n      \"column\": \"High\",\n      \"properties\": {\n        \"dtype\": \"number\",\n        \"std\": 31405.718685057982,\n        \"min\": 1403.0,\n        \"max\": 72676.0,\n        \"num_unique_values\": 8,\n        \"samples\": [\n          69326.0,\n          69283.0,\n          1792.0\n        ],\n        \"semantic_type\": \"\",\n        \"description\": \"\"\n      }\n    },\n    {\n      \"column\": \"Low\",\n      \"properties\": {\n        \"dtype\": \"number\",\n        \"std\": 31354.79757662978,\n        \"min\": 1402.0,\n        \"max\": 72565.0,\n        \"num_unique_values\": 8,\n        \"samples\": [\n          69243.0,\n          69217.0,\n          1792.0\n        ],\n        \"semantic_type\": \"\",\n        \"description\": \"\"\n      }\n    },\n    {\n      \"column\": \"Close\",\n      \"properties\": {\n        \"dtype\": \"number\",\n        \"std\": 31369.529577737878,\n        \"min\": 1402.0,\n        \"max\": 72571.0,\n        \"num_unique_values\": 8,\n        \"samples\": [\n          69284.0,\n          69250.0,\n          1792.0\n        ],\n        \"semantic_type\": \"\",\n        \"description\": \"\"\n      }\n    },\n    {\n      \"column\": \"Volume\",\n      \"properties\": {\n        \"dtype\": \"number\",\n        \"std\": 366555648.8179244,\n        \"min\": 0.0,\n        \"max\": 1054017536.0,\n        \"num_unique_values\": 7,\n        \"samples\": [\n          1792.0,\n          31955809.0,\n          35536384.0\n        ],\n        \"semantic_type\": \"\",\n        \"description\": \"\"\n      }\n    },\n    {\n      \"column\": \"Dividends\",\n      \"properties\": {\n        \"dtype\": \"number\",\n        \"std\": 633.5676759431466,\n        \"min\": 0.0,\n        \"max\": 1792.0,\n        \"num_unique_values\": 2,\n        \"samples\": [\n          0.0,\n          1792.0\n        ],\n        \"semantic_type\": \"\",\n        \"description\": \"\"\n      }\n    },\n    {\n      \"column\": \"Stock Splits\",\n      \"properties\": {\n        \"dtype\": \"number\",\n        \"std\": 633.5676759431466,\n        \"min\": 0.0,\n        \"max\": 1792.0,\n        \"num_unique_values\": 2,\n        \"samples\": [\n          0.0,\n          1792.0\n        ],\n        \"semantic_type\": \"\",\n        \"description\": \"\"\n      }\n    }\n  ]\n}"
            }
          },
          "metadata": {},
          "execution_count": 272
        }
      ]
    },
    {
      "cell_type": "code",
      "source": [
        "df_bitcoin.boxplot(['Close'])"
      ],
      "metadata": {
        "colab": {
          "base_uri": "https://localhost:8080/",
          "height": 448
        },
        "id": "ofs85DAeDmw5",
        "outputId": "c7aed5e8-c43c-4ee5-80e1-c368ab14a454"
      },
      "execution_count": null,
      "outputs": [
        {
          "output_type": "execute_result",
          "data": {
            "text/plain": [
              "<Axes: >"
            ]
          },
          "metadata": {},
          "execution_count": 273
        },
        {
          "output_type": "display_data",
          "data": {
            "text/plain": [
              "<Figure size 640x480 with 1 Axes>"
            ],
            "image/png": "[encoded data removed]"
          },
          "metadata": {}
        }
      ]
    },
    {
      "cell_type": "markdown",
      "source": [
        "Antes de limpiar la base, crea una copia de la base df_bitcoin para que realices la limpieza en esta nueva base(df_bitcoin_limpio),"
      ],
      "metadata": {
        "id": "a-fOyid_J06r"
      }
    },
    {
      "cell_type": "code",
      "source": [
        "df_bitcoin_limpio = df_bitcoin.copy()"
      ],
      "metadata": {
        "id": "3PJClqAzIAGt"
      },
      "execution_count": null,
      "outputs": []
    },
    {
      "cell_type": "markdown",
      "source": [
        "Analiza la base df_bitcoin_limpio, identifica duplicados en el índice y trátalos para quedarte con sólo índices únicos."
      ],
      "metadata": {
        "id": "tGBI9XN4JzzU"
      }
    },
    {
      "cell_type": "code",
      "source": [
        "len(df_bitcoin_limpio)"
      ],
      "metadata": {
        "colab": {
          "base_uri": "https://localhost:8080/"
        },
        "id": "VywiHi7kI8c9",
        "outputId": "e5a5f8d4-b5a0-4489-cda2-ceb8d82d24c0"
      },
      "execution_count": null,
      "outputs": [
        {
          "output_type": "execute_result",
          "data": {
            "text/plain": [
              "1792"
            ]
          },
          "metadata": {},
          "execution_count": 275
        }
      ]
    },
    {
      "cell_type": "code",
      "source": [
        "# el índice no se repite. tiene el mismo numero de uniques que el número de registros del df = 1687\n",
        "df_bitcoin_limpio.index.unique()"
      ],
      "metadata": {
        "colab": {
          "base_uri": "https://localhost:8080/"
        },
        "id": "7tbva0xPIRuL",
        "outputId": "d2934cb3-10ce-493d-da37-fce9d1b5a9e2"
      },
      "execution_count": null,
      "outputs": [
        {
          "output_type": "execute_result",
          "data": {
            "text/plain": [
              "DatetimeIndex(['2024-04-05 00:00:00+00:00', '2024-04-05 00:05:00+00:00',\n",
              "               '2024-04-05 00:10:00+00:00', '2024-04-05 00:15:00+00:00',\n",
              "               '2024-04-05 00:20:00+00:00', '2024-04-05 00:25:00+00:00',\n",
              "               '2024-04-05 00:30:00+00:00', '2024-04-05 00:35:00+00:00',\n",
              "               '2024-04-05 00:40:00+00:00', '2024-04-05 00:45:00+00:00',\n",
              "               ...\n",
              "               '2024-04-11 04:30:00+00:00', '2024-04-11 04:35:00+00:00',\n",
              "               '2024-04-11 04:40:00+00:00', '2024-04-11 04:45:00+00:00',\n",
              "               '2024-04-11 04:50:00+00:00', '2024-04-11 04:55:00+00:00',\n",
              "               '2024-04-11 05:00:00+00:00', '2024-04-11 05:05:00+00:00',\n",
              "               '2024-04-11 05:10:00+00:00', '2024-04-11 05:15:00+00:00'],\n",
              "              dtype='datetime64[ns, UTC]', name='Datetime', length=1792, freq=None)"
            ]
          },
          "metadata": {},
          "execution_count": 276
        }
      ]
    },
    {
      "cell_type": "markdown",
      "source": [
        "Luego busca por valores nulos en la columna Close y trátalos."
      ],
      "metadata": {
        "id": "i2qx1rXzKxYL"
      }
    },
    {
      "cell_type": "code",
      "source": [
        "# Se comprueba que no hay valores nulos en la columna Close\n",
        "df_bitcoin_limpio['Close'].isnull().sum()"
      ],
      "metadata": {
        "colab": {
          "base_uri": "https://localhost:8080/"
        },
        "id": "Xa4k6niwIlMd",
        "outputId": "55deccf7-ac92-4111-82f1-58fd93e6d0ad"
      },
      "execution_count": null,
      "outputs": [
        {
          "output_type": "execute_result",
          "data": {
            "text/plain": [
              "0"
            ]
          },
          "metadata": {},
          "execution_count": 277
        }
      ]
    },
    {
      "cell_type": "markdown",
      "source": [
        "Verifica que todos los registros de la base tengan un Volume de transacción mayor a 0, caso contrário, elimínalos."
      ],
      "metadata": {
        "id": "V3rDUSIqK7_h"
      }
    },
    {
      "cell_type": "code",
      "source": [
        "#El nuevo DataFrame Limpio tendría 850 registros, quiere decir que se eliminarían 837 registros cuyo volumen de transación de ese momento era igual a 0.\n",
        "len(df_bitcoin_limpio[df_bitcoin_limpio['Volume'] > 0])"
      ],
      "metadata": {
        "colab": {
          "base_uri": "https://localhost:8080/"
        },
        "id": "VpncfhUYK_kS",
        "outputId": "f934f7b8-6aba-4b7d-d7b1-db8015478926"
      },
      "execution_count": null,
      "outputs": [
        {
          "output_type": "execute_result",
          "data": {
            "text/plain": [
              "931"
            ]
          },
          "metadata": {},
          "execution_count": 278
        }
      ]
    },
    {
      "cell_type": "code",
      "source": [
        "df_bitcoin_limpio = df_bitcoin_limpio[df_bitcoin_limpio['Volume'] > 0]"
      ],
      "metadata": {
        "id": "8psOc0tmMORF"
      },
      "execution_count": null,
      "outputs": []
    },
    {
      "cell_type": "markdown",
      "source": [
        "Deberás identificar y eliminar los outliers en el precio del Bitcoin, columna Close, utiliza un gráfico de boxplot para identificarlos."
      ],
      "metadata": {
        "id": "RiD-UWOsM0Yh"
      }
    },
    {
      "cell_type": "code",
      "source": [
        "#Boxplot del df limpio para el parámetro Close\n",
        "df_bitcoin_limpio.boxplot('Close')"
      ],
      "metadata": {
        "colab": {
          "base_uri": "https://localhost:8080/",
          "height": 448
        },
        "id": "g_5rdorKMWi_",
        "outputId": "45f0d1e9-b5a7-49b9-c8c5-29bd4ba4364d"
      },
      "execution_count": null,
      "outputs": [
        {
          "output_type": "execute_result",
          "data": {
            "text/plain": [
              "<Axes: >"
            ]
          },
          "metadata": {},
          "execution_count": 280
        },
        {
          "output_type": "display_data",
          "data": {
            "text/plain": [
              "<Figure size 640x480 with 1 Axes>"
            ],
            "image/png": "[encoded data removed]"
          },
          "metadata": {}
        }
      ]
    },
    {
      "cell_type": "markdown",
      "source": [
        "Filtra o selecciona únicamente los registros cuyo precio(Close) se encuentren entre el 1er cuartil(Q1) y el 3er cuartil(Q3) del boxplot.\n",
        "\n",
        "Finalmente, calcula el precio promedio(Close) de esta selección y guárdala en la variable media_bitcoin."
      ],
      "metadata": {
        "id": "1jKOuoYAM3LP"
      }
    },
    {
      "cell_type": "code",
      "source": [
        "def limpieza_datos():\n",
        "    global df_filtrado\n",
        "    global media_bitcoin\n",
        "\n",
        "    # Calcular el primer y tercer cuartil de la columna Close\n",
        "    Q1 = df_bitcoin_limpio['Close'].quantile(0.25)\n",
        "    Q3 = df_bitcoin_limpio['Close'].quantile(0.75)\n",
        "\n",
        "    df_filtrado = df_bitcoin_limpio[(df_bitcoin_limpio['Close'] >= Q1) & (df_bitcoin_limpio['Close'] <= Q3)]\n",
        "\n",
        "    media_bitcoin = df_filtrado['Close'].mean()\n",
        "\n"
      ],
      "metadata": {
        "id": "aCsu6WH7M9az"
      },
      "execution_count": null,
      "outputs": []
    },
    {
      "cell_type": "code",
      "source": [
        "df_bitcoin.boxplot(['Close'])"
      ],
      "metadata": {
        "colab": {
          "base_uri": "https://localhost:8080/",
          "height": 448
        },
        "id": "X2owyFlaTJnW",
        "outputId": "d1efbcfe-c862-4346-848d-2d84d99ffa1e"
      },
      "execution_count": null,
      "outputs": [
        {
          "output_type": "execute_result",
          "data": {
            "text/plain": [
              "<Axes: >"
            ]
          },
          "metadata": {},
          "execution_count": 282
        },
        {
          "output_type": "display_data",
          "data": {
            "text/plain": [
              "<Figure size 640x480 with 1 Axes>"
            ],
            "image/png": "[encoded data removed]"
          },
          "metadata": {}
        }
      ]
    },
    {
      "cell_type": "code",
      "source": [
        "limpieza_datos()\n",
        "df_filtrado.boxplot(['Close'])"
      ],
      "metadata": {
        "colab": {
          "base_uri": "https://localhost:8080/",
          "height": 484
        },
        "id": "54frzq-BOLHy",
        "outputId": "6e9c1c9b-089f-4569-cf96-1ba78ec20c87"
      },
      "execution_count": null,
      "outputs": [
        {
          "output_type": "stream",
          "name": "stdout",
          "text": [
            "68816.3984375\n",
            "70882.62890625\n"
          ]
        },
        {
          "output_type": "execute_result",
          "data": {
            "text/plain": [
              "<Axes: >"
            ]
          },
          "metadata": {},
          "execution_count": 283
        },
        {
          "output_type": "display_data",
          "data": {
            "text/plain": [
              "<Figure size 640x480 with 1 Axes>"
            ],
            "image/png": "[encoded data removed]"
          },
          "metadata": {}
        }
      ]
    },
    {
      "cell_type": "markdown",
      "source": [
        "Calcular el promedio de Close"
      ],
      "metadata": {
        "id": "k8N7iYusVaCy"
      }
    },
    {
      "cell_type": "code",
      "source": [
        "print('El promedio del Bitcoin es: ',media_bitcoin.round(2))"
      ],
      "metadata": {
        "colab": {
          "base_uri": "https://localhost:8080/"
        },
        "id": "e5TLChIoVc9G",
        "outputId": "71f4c856-26f6-4473-83bc-dde576878b50"
      },
      "execution_count": null,
      "outputs": [
        {
          "output_type": "stream",
          "name": "stdout",
          "text": [
            "El promedio del Bitcoin es:  69563.89\n"
          ]
        }
      ]
    },
    {
      "cell_type": "markdown",
      "source": [
        "## 4. Tomar Decisiones"
      ],
      "metadata": {
        "id": "0friJ5z_UT2i"
      }
    },
    {
      "cell_type": "markdown",
      "source": [
        "Si el precio actual es mayor/igual que el precio promedio y la tendencia es de baja, entonces guarda el valor ‘Vender’.\n",
        "Si el precio actual es menor que el precio promedio y la tendencia es de alta, entonces guarda el valor ‘Comprar’.\n",
        "Si ninguna de las 2 condiciones anteriores se cumple, entonces guarda el valor 'Esperar'."
      ],
      "metadata": {
        "id": "dS1_u6VsV0ek"
      }
    },
    {
      "cell_type": "code",
      "source": [
        "def tomar_decision():\n",
        "    global algoritmo_decision\n",
        "    global precioactual\n",
        "    global media_bitcoin\n",
        "    # sólo si el precio actual es mayor que la media y la tendencia es a la baja, entonces se recomienda vender\n",
        "    if precioactual >= media_bitcoin and tendencia == 'Baja':\n",
        "        algoritmo_decision = 'Vender'\n",
        "    #por el contrario si el precio actual es menor que la media y la tendencia es alta, entonces se recomienda comprar\n",
        "    elif precioactual < media_bitcoin and tendencia == 'Alta':\n",
        "        algoritmo_decision = 'Comprar'\n",
        "    #cualquier otra cosa se espera\n",
        "    else:\n",
        "        algoritmo_decision = 'Esperar'\n"
      ],
      "metadata": {
        "id": "MEE0iiGTVz1R"
      },
      "execution_count": null,
      "outputs": []
    },
    {
      "cell_type": "code",
      "source": [
        "tomar_decision()\n",
        "print('Precio Promedio Bitcoin: ', media_bitcoin)\n",
        "print('Precio Actual Bitcoin: ', precioactual)\n",
        "print('Tendencia: ', tendencia)\n",
        "print('Decisión del Algoritmo: ', algoritmo_decision)"
      ],
      "metadata": {
        "colab": {
          "base_uri": "https://localhost:8080/"
        },
        "id": "BA-Tvv46aif2",
        "outputId": "1cb21a87-322b-4e7e-a924-f7379c1fbaaf"
      },
      "execution_count": null,
      "outputs": [
        {
          "output_type": "stream",
          "name": "stdout",
          "text": [
            "Precio Promedio Bitcoin:  69563.88818884408\n",
            "Precio Actual Bitcoin:  70724.33\n",
            "Tendencia:  Alta\n",
            "Decisión del Algoritmo:  Esperar\n"
          ]
        }
      ]
    },
    {
      "cell_type": "code",
      "source": [
        "print('Valores actuales de las criptos: ')\n",
        "valores"
      ],
      "metadata": {
        "colab": {
          "base_uri": "https://localhost:8080/",
          "height": 381
        },
        "id": "IEOO0o-RbclR",
        "outputId": "195fdf23-9b62-45f2-f3b6-1e5f740e2ecc"
      },
      "execution_count": null,
      "outputs": [
        {
          "output_type": "stream",
          "name": "stdout",
          "text": [
            "Valores actuales de las criptos: \n"
          ]
        },
        {
          "output_type": "execute_result",
          "data": {
            "text/plain": [
              "        Nombre  Precio Actual  Precio 1h % Tendencia\n",
              "0      Bitcoin     70598.8700         0.21      Alta\n",
              "1     Ethereum      3566.8400         1.81      Alta\n",
              "2  Tether USDt         1.0000         7.74      Alta\n",
              "3          BNB       612.9100         0.20      Alta\n",
              "4       Solana       173.8000         1.12      Alta\n",
              "5          XRP         0.6197         8.34      Alta\n",
              "6         USDC         1.0000         0.00      Alta\n",
              "7     Dogecoin         0.1965         0.05      Alta\n",
              "8      Toncoin         7.4800         0.02      Alta\n",
              "9      Cardano         0.5868         0.48      Baja"
            ],
            "text/html": [
              "\n",
              "  <div id=\"df-50cc54bb-b9b2-47f8-92b5-23f55980a28c\" class=\"colab-df-container\">\n",
              "    <div>\n",
              "<style scoped>\n",
              "    .dataframe tbody tr th:only-of-type {\n",
              "        vertical-align: middle;\n",
              "    }\n",
              "\n",
              "    .dataframe tbody tr th {\n",
              "        vertical-align: top;\n",
              "    }\n",
              "\n",
              "    .dataframe thead th {\n",
              "        text-align: right;\n",
              "    }\n",
              "</style>\n",
              "<table border=\"1\" class=\"dataframe\">\n",
              "  <thead>\n",
              "    <tr style=\"text-align: right;\">\n",
              "      <th></th>\n",
              "      <th>Nombre</th>\n",
              "      <th>Precio Actual</th>\n",
              "      <th>Precio 1h %</th>\n",
              "      <th>Tendencia</th>\n",
              "    </tr>\n",
              "  </thead>\n",
              "  <tbody>\n",
              "    <tr>\n",
              "      <th>0</th>\n",
              "      <td>Bitcoin</td>\n",
              "      <td>70598.8700</td>\n",
              "      <td>0.21</td>\n",
              "      <td>Alta</td>\n",
              "    </tr>\n",
              "    <tr>\n",
              "      <th>1</th>\n",
              "      <td>Ethereum</td>\n",
              "      <td>3566.8400</td>\n",
              "      <td>1.81</td>\n",
              "      <td>Alta</td>\n",
              "    </tr>\n",
              "    <tr>\n",
              "      <th>2</th>\n",
              "      <td>Tether USDt</td>\n",
              "      <td>1.0000</td>\n",
              "      <td>7.74</td>\n",
              "      <td>Alta</td>\n",
              "    </tr>\n",
              "    <tr>\n",
              "      <th>3</th>\n",
              "      <td>BNB</td>\n",
              "      <td>612.9100</td>\n",
              "      <td>0.20</td>\n",
              "      <td>Alta</td>\n",
              "    </tr>\n",
              "    <tr>\n",
              "      <th>4</th>\n",
              "      <td>Solana</td>\n",
              "      <td>173.8000</td>\n",
              "      <td>1.12</td>\n",
              "      <td>Alta</td>\n",
              "    </tr>\n",
              "    <tr>\n",
              "      <th>5</th>\n",
              "      <td>XRP</td>\n",
              "      <td>0.6197</td>\n",
              "      <td>8.34</td>\n",
              "      <td>Alta</td>\n",
              "    </tr>\n",
              "    <tr>\n",
              "      <th>6</th>\n",
              "      <td>USDC</td>\n",
              "      <td>1.0000</td>\n",
              "      <td>0.00</td>\n",
              "      <td>Alta</td>\n",
              "    </tr>\n",
              "    <tr>\n",
              "      <th>7</th>\n",
              "      <td>Dogecoin</td>\n",
              "      <td>0.1965</td>\n",
              "      <td>0.05</td>\n",
              "      <td>Alta</td>\n",
              "    </tr>\n",
              "    <tr>\n",
              "      <th>8</th>\n",
              "      <td>Toncoin</td>\n",
              "      <td>7.4800</td>\n",
              "      <td>0.02</td>\n",
              "      <td>Alta</td>\n",
              "    </tr>\n",
              "    <tr>\n",
              "      <th>9</th>\n",
              "      <td>Cardano</td>\n",
              "      <td>0.5868</td>\n",
              "      <td>0.48</td>\n",
              "      <td>Baja</td>\n",
              "    </tr>\n",
              "  </tbody>\n",
              "</table>\n",
              "</div>\n",
              "    <div class=\"colab-df-buttons\">\n",
              "\n",
              "  <div class=\"colab-df-container\">\n",
              "    <button class=\"colab-df-convert\" onclick=\"convertToInteractive('df-50cc54bb-b9b2-47f8-92b5-23f55980a28c')\"\n",
              "            title=\"Convert this dataframe to an interactive table.\"\n",
              "            style=\"display:none;\">\n",
              "\n",
              "  <svg xmlns=\"http://www.w3.org/2000/svg\" height=\"24px\" viewBox=\"0 -960 960 960\">\n",
              "    <path d=\"M120-120v-720h720v720H120Zm60-500h600v-160H180v160Zm220 220h160v-160H400v160Zm0 220h160v-160H400v160ZM180-400h160v-160H180v160Zm440 0h160v-160H620v160ZM180-180h160v-160H180v160Zm440 0h160v-160H620v160Z\"/>\n",
              "  </svg>\n",
              "    </button>\n",
              "\n",
              "  <style>\n",
              "    .colab-df-container {\n",
              "      display:flex;\n",
              "      gap: 12px;\n",
              "    }\n",
              "\n",
              "    .colab-df-convert {\n",
              "      background-color: #E8F0FE;\n",
              "      border: none;\n",
              "      border-radius: 50%;\n",
              "      cursor: pointer;\n",
              "      display: none;\n",
              "      fill: #1967D2;\n",
              "      height: 32px;\n",
              "      padding: 0 0 0 0;\n",
              "      width: 32px;\n",
              "    }\n",
              "\n",
              "    .colab-df-convert:hover {\n",
              "      background-color: #E2EBFA;\n",
              "      box-shadow: 0px 1px 2px rgba(60, 64, 67, 0.3), 0px 1px 3px 1px rgba(60, 64, 67, 0.15);\n",
              "      fill: #174EA6;\n",
              "    }\n",
              "\n",
              "    .colab-df-buttons div {\n",
              "      margin-bottom: 4px;\n",
              "    }\n",
              "\n",
              "    [theme=dark] .colab-df-convert {\n",
              "      background-color: #3B4455;\n",
              "      fill: #D2E3FC;\n",
              "    }\n",
              "\n",
              "    [theme=dark] .colab-df-convert:hover {\n",
              "      background-color: #434B5C;\n",
              "      box-shadow: 0px 1px 3px 1px rgba(0, 0, 0, 0.15);\n",
              "      filter: drop-shadow(0px 1px 2px rgba(0, 0, 0, 0.3));\n",
              "      fill: #FFFFFF;\n",
              "    }\n",
              "  </style>\n",
              "\n",
              "    <script>\n",
              "      const buttonEl =\n",
              "        document.querySelector('#df-50cc54bb-b9b2-47f8-92b5-23f55980a28c button.colab-df-convert');\n",
              "      buttonEl.style.display =\n",
              "        google.colab.kernel.accessAllowed ? 'block' : 'none';\n",
              "\n",
              "      async function convertToInteractive(key) {\n",
              "        const element = document.querySelector('#df-50cc54bb-b9b2-47f8-92b5-23f55980a28c');\n",
              "        const dataTable =\n",
              "          await google.colab.kernel.invokeFunction('convertToInteractive',\n",
              "                                                    [key], {});\n",
              "        if (!dataTable) return;\n",
              "\n",
              "        const docLinkHtml = 'Like what you see? Visit the ' +\n",
              "          '<a target=\"_blank\" href=https://colab.research.google.com/notebooks/data_table.ipynb>data table notebook</a>'\n",
              "          + ' to learn more about interactive tables.';\n",
              "        element.innerHTML = '';\n",
              "        dataTable['output_type'] = 'display_data';\n",
              "        await google.colab.output.renderOutput(dataTable, element);\n",
              "        const docLink = document.createElement('div');\n",
              "        docLink.innerHTML = docLinkHtml;\n",
              "        element.appendChild(docLink);\n",
              "      }\n",
              "    </script>\n",
              "  </div>\n",
              "\n",
              "\n",
              "<div id=\"df-49b54362-0805-4ad9-b185-3374e153ae90\">\n",
              "  <button class=\"colab-df-quickchart\" onclick=\"quickchart('df-49b54362-0805-4ad9-b185-3374e153ae90')\"\n",
              "            title=\"Suggest charts\"\n",
              "            style=\"display:none;\">\n",
              "\n",
              "<svg xmlns=\"http://www.w3.org/2000/svg\" height=\"24px\"viewBox=\"0 0 24 24\"\n",
              "     width=\"24px\">\n",
              "    <g>\n",
              "        <path d=\"M19 3H5c-1.1 0-2 .9-2 2v14c0 1.1.9 2 2 2h14c1.1 0 2-.9 2-2V5c0-1.1-.9-2-2-2zM9 17H7v-7h2v7zm4 0h-2V7h2v10zm4 0h-2v-4h2v4z\"/>\n",
              "    </g>\n",
              "</svg>\n",
              "  </button>\n",
              "\n",
              "<style>\n",
              "  .colab-df-quickchart {\n",
              "      --bg-color: #E8F0FE;\n",
              "      --fill-color: #1967D2;\n",
              "      --hover-bg-color: #E2EBFA;\n",
              "      --hover-fill-color: #174EA6;\n",
              "      --disabled-fill-color: #AAA;\n",
              "      --disabled-bg-color: #DDD;\n",
              "  }\n",
              "\n",
              "  [theme=dark] .colab-df-quickchart {\n",
              "      --bg-color: #3B4455;\n",
              "      --fill-color: #D2E3FC;\n",
              "      --hover-bg-color: #434B5C;\n",
              "      --hover-fill-color: #FFFFFF;\n",
              "      --disabled-bg-color: #3B4455;\n",
              "      --disabled-fill-color: #666;\n",
              "  }\n",
              "\n",
              "  .colab-df-quickchart {\n",
              "    background-color: var(--bg-color);\n",
              "    border: none;\n",
              "    border-radius: 50%;\n",
              "    cursor: pointer;\n",
              "    display: none;\n",
              "    fill: var(--fill-color);\n",
              "    height: 32px;\n",
              "    padding: 0;\n",
              "    width: 32px;\n",
              "  }\n",
              "\n",
              "  .colab-df-quickchart:hover {\n",
              "    background-color: var(--hover-bg-color);\n",
              "    box-shadow: 0 1px 2px rgba(60, 64, 67, 0.3), 0 1px 3px 1px rgba(60, 64, 67, 0.15);\n",
              "    fill: var(--button-hover-fill-color);\n",
              "  }\n",
              "\n",
              "  .colab-df-quickchart-complete:disabled,\n",
              "  .colab-df-quickchart-complete:disabled:hover {\n",
              "    background-color: var(--disabled-bg-color);\n",
              "    fill: var(--disabled-fill-color);\n",
              "    box-shadow: none;\n",
              "  }\n",
              "\n",
              "  .colab-df-spinner {\n",
              "    border: 2px solid var(--fill-color);\n",
              "    border-color: transparent;\n",
              "    border-bottom-color: var(--fill-color);\n",
              "    animation:\n",
              "      spin 1s steps(1) infinite;\n",
              "  }\n",
              "\n",
              "  @keyframes spin {\n",
              "    0% {\n",
              "      border-color: transparent;\n",
              "      border-bottom-color: var(--fill-color);\n",
              "      border-left-color: var(--fill-color);\n",
              "    }\n",
              "    20% {\n",
              "      border-color: transparent;\n",
              "      border-left-color: var(--fill-color);\n",
              "      border-top-color: var(--fill-color);\n",
              "    }\n",
              "    30% {\n",
              "      border-color: transparent;\n",
              "      border-left-color: var(--fill-color);\n",
              "      border-top-color: var(--fill-color);\n",
              "      border-right-color: var(--fill-color);\n",
              "    }\n",
              "    40% {\n",
              "      border-color: transparent;\n",
              "      border-right-color: var(--fill-color);\n",
              "      border-top-color: var(--fill-color);\n",
              "    }\n",
              "    60% {\n",
              "      border-color: transparent;\n",
              "      border-right-color: var(--fill-color);\n",
              "    }\n",
              "    80% {\n",
              "      border-color: transparent;\n",
              "      border-right-color: var(--fill-color);\n",
              "      border-bottom-color: var(--fill-color);\n",
              "    }\n",
              "    90% {\n",
              "      border-color: transparent;\n",
              "      border-bottom-color: var(--fill-color);\n",
              "    }\n",
              "  }\n",
              "</style>\n",
              "\n",
              "  <script>\n",
              "    async function quickchart(key) {\n",
              "      const quickchartButtonEl =\n",
              "        document.querySelector('#' + key + ' button');\n",
              "      quickchartButtonEl.disabled = true;  // To prevent multiple clicks.\n",
              "      quickchartButtonEl.classList.add('colab-df-spinner');\n",
              "      try {\n",
              "        const charts = await google.colab.kernel.invokeFunction(\n",
              "            'suggestCharts', [key], {});\n",
              "      } catch (error) {\n",
              "        console.error('Error during call to suggestCharts:', error);\n",
              "      }\n",
              "      quickchartButtonEl.classList.remove('colab-df-spinner');\n",
              "      quickchartButtonEl.classList.add('colab-df-quickchart-complete');\n",
              "    }\n",
              "    (() => {\n",
              "      let quickchartButtonEl =\n",
              "        document.querySelector('#df-49b54362-0805-4ad9-b185-3374e153ae90 button');\n",
              "      quickchartButtonEl.style.display =\n",
              "        google.colab.kernel.accessAllowed ? 'block' : 'none';\n",
              "    })();\n",
              "  </script>\n",
              "</div>\n",
              "\n",
              "  <div id=\"id_aa1c9ce8-e862-4b59-8c8d-c133857f7f4c\">\n",
              "    <style>\n",
              "      .colab-df-generate {\n",
              "        background-color: #E8F0FE;\n",
              "        border: none;\n",
              "        border-radius: 50%;\n",
              "        cursor: pointer;\n",
              "        display: none;\n",
              "        fill: #1967D2;\n",
              "        height: 32px;\n",
              "        padding: 0 0 0 0;\n",
              "        width: 32px;\n",
              "      }\n",
              "\n",
              "      .colab-df-generate:hover {\n",
              "        background-color: #E2EBFA;\n",
              "        box-shadow: 0px 1px 2px rgba(60, 64, 67, 0.3), 0px 1px 3px 1px rgba(60, 64, 67, 0.15);\n",
              "        fill: #174EA6;\n",
              "      }\n",
              "\n",
              "      [theme=dark] .colab-df-generate {\n",
              "        background-color: #3B4455;\n",
              "        fill: #D2E3FC;\n",
              "      }\n",
              "\n",
              "      [theme=dark] .colab-df-generate:hover {\n",
              "        background-color: #434B5C;\n",
              "        box-shadow: 0px 1px 3px 1px rgba(0, 0, 0, 0.15);\n",
              "        filter: drop-shadow(0px 1px 2px rgba(0, 0, 0, 0.3));\n",
              "        fill: #FFFFFF;\n",
              "      }\n",
              "    </style>\n",
              "    <button class=\"colab-df-generate\" onclick=\"generateWithVariable('valores')\"\n",
              "            title=\"Generate code using this dataframe.\"\n",
              "            style=\"display:none;\">\n",
              "\n",
              "  <svg xmlns=\"http://www.w3.org/2000/svg\" height=\"24px\"viewBox=\"0 0 24 24\"\n",
              "       width=\"24px\">\n",
              "    <path d=\"M7,19H8.4L18.45,9,17,7.55,7,17.6ZM5,21V16.75L18.45,3.32a2,2,0,0,1,2.83,0l1.4,1.43a1.91,1.91,0,0,1,.58,1.4,1.91,1.91,0,0,1-.58,1.4L9.25,21ZM18.45,9,17,7.55Zm-12,3A5.31,5.31,0,0,0,4.9,8.1,5.31,5.31,0,0,0,1,6.5,5.31,5.31,0,0,0,4.9,4.9,5.31,5.31,0,0,0,6.5,1,5.31,5.31,0,0,0,8.1,4.9,5.31,5.31,0,0,0,12,6.5,5.46,5.46,0,0,0,6.5,12Z\"/>\n",
              "  </svg>\n",
              "    </button>\n",
              "    <script>\n",
              "      (() => {\n",
              "      const buttonEl =\n",
              "        document.querySelector('#id_aa1c9ce8-e862-4b59-8c8d-c133857f7f4c button.colab-df-generate');\n",
              "      buttonEl.style.display =\n",
              "        google.colab.kernel.accessAllowed ? 'block' : 'none';\n",
              "\n",
              "      buttonEl.onclick = () => {\n",
              "        google.colab.notebook.generateWithVariable('valores');\n",
              "      }\n",
              "      })();\n",
              "    </script>\n",
              "  </div>\n",
              "\n",
              "    </div>\n",
              "  </div>\n"
            ],
            "application/vnd.google.colaboratory.intrinsic+json": {
              "type": "dataframe",
              "variable_name": "valores",
              "summary": "{\n  \"name\": \"valores\",\n  \"rows\": 10,\n  \"fields\": [\n    {\n      \"column\": \"Nombre\",\n      \"properties\": {\n        \"dtype\": \"string\",\n        \"num_unique_values\": 10,\n        \"samples\": [\n          \"Toncoin\",\n          \"Ethereum\",\n          \"XRP\"\n        ],\n        \"semantic_type\": \"\",\n        \"description\": \"\"\n      }\n    },\n    {\n      \"column\": \"Precio Actual\",\n      \"properties\": {\n        \"dtype\": \"number\",\n        \"std\": 22199.547135073106,\n        \"min\": 0.1965,\n        \"max\": 70598.87,\n        \"num_unique_values\": 9,\n        \"samples\": [\n          7.48,\n          3566.84,\n          0.6197\n        ],\n        \"semantic_type\": \"\",\n        \"description\": \"\"\n      }\n    },\n    {\n      \"column\": \"Precio 1h %\",\n      \"properties\": {\n        \"dtype\": \"number\",\n        \"std\": 3.239187312343089,\n        \"min\": 0.0,\n        \"max\": 8.34,\n        \"num_unique_values\": 10,\n        \"samples\": [\n          0.02,\n          1.81,\n          8.34\n        ],\n        \"semantic_type\": \"\",\n        \"description\": \"\"\n      }\n    },\n    {\n      \"column\": \"Tendencia\",\n      \"properties\": {\n        \"dtype\": \"category\",\n        \"num_unique_values\": 2,\n        \"samples\": [\n          \"Baja\",\n          \"Alta\"\n        ],\n        \"semantic_type\": \"\",\n        \"description\": \"\"\n      }\n    }\n  ]\n}"
            }
          },
          "metadata": {},
          "execution_count": 287
        }
      ]
    },
    {
      "cell_type": "markdown",
      "source": [
        "## 5. Visualización"
      ],
      "metadata": {
        "id": "bLj3Ju1Bcj0x"
      }
    },
    {
      "cell_type": "markdown",
      "source": [
        "Crea una funcion visualizacion(), dentro de ella, define nuevamente las variables globales(ver Paso1) y escribe tu código:\n",
        "\n",
        "Adiciona una nueva columna (Promedio) al dataframe original df_bitcoiny almacena el valor de nuestra variable media_bitcoin."
      ],
      "metadata": {
        "id": "7N4QlA0BcxWr"
      }
    },
    {
      "cell_type": "code",
      "source": [
        "def visualizacion():\n",
        "  global tendencia\n",
        "  global precioactual\n",
        "  global media_bitcoin\n",
        "\n",
        "  #Adiciona una nueva columna (Promedio) al dataframe original df_bitcoiny almacena el valor de nuestra variable media_bitcoin.\n",
        "  df_bitcoin['Promedio'] = media_bitcoin\n",
        "\n",
        "  #Configura el tamaño del gráfico en una proporción de 16x5.\n",
        "  plt.figure(figsize=(16,5))\n",
        "\n",
        "  #Adiciona un t ítulo al gráfico.\n",
        "  plt.title('Evolución Temporal del Precio del Bitcoin con Precio Promedio')\n",
        "\n",
        "  #Usando el método plot()dibuja una línea en el gráfico, con los datos del índice y la columna Close de la base df_bitcoin.\n",
        "  plt.plot(df_bitcoin.index, df_bitcoin['Close'])\n",
        "\n",
        " # Usando el método plot()dibuja una línea en el gráfico, con los datos del índice y la columna Promedio de la base df_bitcoin.\n",
        "  plt.plot(df_bitcoin.index, df_bitcoin['Promedio'])\n",
        "\n",
        "#Usando el método annotate()muestra un mensaje dentro del gráfico con la decisión calculada del algoritmo.\n",
        "  x_coord = df_bitcoin.index[2]  # Coordenada x\n",
        "  y_coord = 72000 # Coordenada y\n",
        "\n",
        "# Anotar el mensaje en el gráfico\n",
        "  plt.annotate('Se sugiere: {}'.format(algoritmo_decision), xy=(x_coord, y_coord), fontsize=12)\n",
        "\n",
        "  plt.show()\n",
        "\n"
      ],
      "metadata": {
        "id": "OKssUD-Sc1fl"
      },
      "execution_count": null,
      "outputs": []
    },
    {
      "cell_type": "code",
      "source": [
        "visualizacion()"
      ],
      "metadata": {
        "colab": {
          "base_uri": "https://localhost:8080/",
          "height": 453
        },
        "id": "251v2iMGtg0v",
        "outputId": "b2609e80-afaf-4c29-93ac-21a9e4993b6d"
      },
      "execution_count": null,
      "outputs": [
        {
          "output_type": "display_data",
          "data": {
            "text/plain": [
              "<Figure size 1600x500 with 1 Axes>"
            ],
            "image/png": "[encoded data removed]"
          },
          "metadata": {}
        }
      ]
    },
    {
      "cell_type": "markdown",
      "source": [
        "## 6. Automatización"
      ],
      "metadata": {
        "id": "A3Lx4p6Ctkm0"
      }
    },
    {
      "cell_type": "code",
      "source": [
        "from IPython.display import clear_output"
      ],
      "metadata": {
        "id": "fup9wKwKtyH3"
      },
      "execution_count": null,
      "outputs": []
    },
    {
      "cell_type": "code",
      "source": [
        "import time"
      ],
      "metadata": {
        "id": "syl2aDiGt0aD"
      },
      "execution_count": null,
      "outputs": []
    },
    {
      "cell_type": "code",
      "source": [
        "while(True):\n",
        "  clear_output()\n",
        "  importar_base_bitcoin()\n",
        "  extraer_tendencias()\n",
        "  limpieza_datos()\n",
        "  tomar_decision()\n",
        "  visualizacion()\n",
        "  time.sleep(300)\n"
      ],
      "metadata": {
        "id": "da8SFI1fzSFs"
      },
      "execution_count": null,
      "outputs": []
    }
  ]
}